{
  "nbformat": 4,
  "nbformat_minor": 0,
  "metadata": {
    "colab": {
      "name": "Prathima_In_class_exercise_02.ipynb",
      "provenance": [],
      "collapsed_sections": [],
      "toc_visible": true,
      "include_colab_link": true
    },
    "kernelspec": {
      "display_name": "Python 3",
      "language": "python",
      "name": "python3"
    },
    "language_info": {
      "codemirror_mode": {
        "name": "ipython",
        "version": 3
      },
      "file_extension": ".py",
      "mimetype": "text/x-python",
      "name": "python",
      "nbconvert_exporter": "python",
      "pygments_lexer": "ipython3",
      "version": "3.7.4"
    }
  },
  "cells": [
    {
      "cell_type": "markdown",
      "metadata": {
        "id": "view-in-github",
        "colab_type": "text"
      },
      "source": [
        "<a href=\"https://colab.research.google.com/github/pn0159/SuicideRates/blob/master/Prathima_In_class_exercise_02.ipynb\" target=\"_parent\"><img src=\"https://colab.research.google.com/assets/colab-badge.svg\" alt=\"Open In Colab\"/></a>"
      ]
    },
    {
      "cell_type": "markdown",
      "metadata": {
        "colab_type": "text",
        "id": "oo5bsEh2eeWi"
      },
      "source": [
        "# **The second In-class-exercise (9/9/2020, 20 points in total)**\n"
      ]
    },
    {
      "cell_type": "markdown",
      "metadata": {
        "colab_type": "text",
        "id": "2sPQ58dIeqgp"
      },
      "source": [
        "(1) Write a Python program to find the duplicate elements in a given array of integers. Return -1 If there are no such elements. (4 points)"
      ]
    },
    {
      "cell_type": "code",
      "metadata": {
        "colab_type": "code",
        "id": "mnrvKMFTeoJR",
        "colab": {
          "base_uri": "https://localhost:8080/",
          "height": 51
        },
        "outputId": "59f62588-bccc-43be-a18b-f04157d752ea"
      },
      "source": [
        "#Initializing a list\n",
        "my_list=[1,2,3,4,3,5,6]\n",
        "a=len(my_list)\n",
        "# defining 'set' to ensure no duplicate elements\n",
        "y=set(my_list)\n",
        "if (a!=len(y)):\n",
        "  print(list(y))\n",
        "else:\n",
        "  print(-1)\n",
        "\n",
        "#In other way without showing list of removed duplicate values we can just output if we have duplicate elements or not\n",
        "a_list = [1, 2, 3,4,1]\n",
        "a_set = set(a_list)\n",
        "contains_duplicates = len(a_list) != len(a_set)\n",
        "print(contains_duplicates)\n"
      ],
      "execution_count": null,
      "outputs": [
        {
          "output_type": "stream",
          "text": [
            "[1, 2, 3, 4, 5, 6]\n",
            "True\n"
          ],
          "name": "stdout"
        }
      ]
    },
    {
      "cell_type": "markdown",
      "metadata": {
        "colab_type": "text",
        "id": "YYrH6n6IhZoQ"
      },
      "source": [
        "(2) Write a Python program to select all the Sundays of a specified year. (4 points)\n",
        "\n"
      ]
    },
    {
      "cell_type": "code",
      "metadata": {
        "colab_type": "code",
        "id": "OSfPLd23eLpX",
        "colab": {
          "base_uri": "https://localhost:8080/",
          "height": 901
        },
        "outputId": "049983e3-4003-4dbe-c28d-bfe4da855f24"
      },
      "source": [
        "# I am using 'datetime' module and using date and timedelta to represent the date and duration\n",
        "#importing date and timedelta\n",
        "from datetime import date, timedelta\n",
        " \n",
        "# selecting year 2016\n",
        "year = 2016\n",
        "\n",
        "#defining format for date and listing sundays\n",
        "date_object = date(year, 1, 1)\n",
        "date_object += timedelta(days = 6 - date_object.weekday()) \n",
        " \n",
        "while date_object.year == year:\n",
        "    print(date_object)\n",
        "    date_object += timedelta(days=7)\n",
        "\n",
        "\n"
      ],
      "execution_count": null,
      "outputs": [
        {
          "output_type": "stream",
          "text": [
            "2016-01-03\n",
            "2016-01-10\n",
            "2016-01-17\n",
            "2016-01-24\n",
            "2016-01-31\n",
            "2016-02-07\n",
            "2016-02-14\n",
            "2016-02-21\n",
            "2016-02-28\n",
            "2016-03-06\n",
            "2016-03-13\n",
            "2016-03-20\n",
            "2016-03-27\n",
            "2016-04-03\n",
            "2016-04-10\n",
            "2016-04-17\n",
            "2016-04-24\n",
            "2016-05-01\n",
            "2016-05-08\n",
            "2016-05-15\n",
            "2016-05-22\n",
            "2016-05-29\n",
            "2016-06-05\n",
            "2016-06-12\n",
            "2016-06-19\n",
            "2016-06-26\n",
            "2016-07-03\n",
            "2016-07-10\n",
            "2016-07-17\n",
            "2016-07-24\n",
            "2016-07-31\n",
            "2016-08-07\n",
            "2016-08-14\n",
            "2016-08-21\n",
            "2016-08-28\n",
            "2016-09-04\n",
            "2016-09-11\n",
            "2016-09-18\n",
            "2016-09-25\n",
            "2016-10-02\n",
            "2016-10-09\n",
            "2016-10-16\n",
            "2016-10-23\n",
            "2016-10-30\n",
            "2016-11-06\n",
            "2016-11-13\n",
            "2016-11-20\n",
            "2016-11-27\n",
            "2016-12-04\n",
            "2016-12-11\n",
            "2016-12-18\n",
            "2016-12-25\n"
          ],
          "name": "stdout"
        }
      ]
    },
    {
      "cell_type": "markdown",
      "metadata": {
        "colab_type": "text",
        "id": "UIpziZ6Sjie-"
      },
      "source": [
        "(3) Python files reading and writing. Download the “[exercise_02_data _collection.zip](https://github.com/unt-iialab/INFO5731_FALL2020/blob/master/In_class_exercise/exercise_02_data_collection.zip)” to your local and un-zip it.\n",
        "\n",
        "*   Write a program to read all the txt files and save the sentences in all the files into one csv file with two columns, the first column is sentence id (txt file name+sentence line number), the second column is the sentence text content. (4 points)\n",
        "*   Remove all the punctuations from the sentences, save the processed sentences into a new column in the same csv file. (4 points)\n",
        "*   Ask the user to enter a word, return all the sentences that include this word, three kinds of information should be returned: sentence id, sentence text content, the count that user input word appear in the sentence. (4 points)\n",
        "\n"
      ]
    },
    {
      "cell_type": "code",
      "metadata": {
        "colab_type": "code",
        "id": "f3CUsrWOj1Xy",
        "colab": {}
      },
      "source": [
        "import os\n",
        "list_path= \n",
        "\n",
        "\n",
        "\n"
      ],
      "execution_count": 10,
      "outputs": []
    },
    {
      "cell_type": "markdown",
      "metadata": {
        "colab_type": "text",
        "id": "-12cqmJEpZOh"
      },
      "source": [
        "(4) Install packages nltk, numpy, scipy, pandas, and sklearn on Google Colab. Write a program to test whether they are installed successfully. (3 points for extra)"
      ]
    },
    {
      "cell_type": "code",
      "metadata": {
        "colab_type": "code",
        "id": "f1pn1Zl2qK77",
        "colab": {
          "base_uri": "https://localhost:8080/",
          "height": 357
        },
        "outputId": "6f4bf627-9c81-44cd-81a1-eed4cf061351"
      },
      "source": [
        "# I am using 'pip' to install respective packages\n",
        "!pip install scipy\n",
        "!pip install numpy\n",
        "!pip install pandas\n",
        "!pip install sklearn\n",
        "!pip install nltk\n",
        "\n",
        "# I am using 'try' and 'except' concepts to test/check whether they are installed successfully or not\n",
        "try:\n",
        "    import numpy\n",
        "    print(\"Package 'numpy' is installed Sucessfully\")\n",
        "except ModuleNotFoundError:\n",
        "    print(\"Package 'numpy' is not installed\")\n",
        "try:\n",
        "    import numpy\n",
        "    print(\"Package 'scipy' is installed Sucessfully\")\n",
        "except ModuleNotFoundError:\n",
        "    print(\"Package 'scipy' is not installed\")\n",
        "try:\n",
        "    import numpy\n",
        "    print(\"Package 'pandas' is installed Sucessfully\")\n",
        "except ModuleNotFoundError:\n",
        "    print(\"Package 'pandas' is not installed\")\n",
        "try:\n",
        "    import numpy\n",
        "    print(\"Package 'sklearn' is installed Sucessfully\")\n",
        "except ModuleNotFoundError:\n",
        "    print(\"Package 'sklearn' is not installed\")\n",
        "try:\n",
        "    import numpy\n",
        "    print(\"Package 'nltk' is installed Sucessfully\")\n",
        "except ModuleNotFoundError:\n",
        "    print(\"Package 'nltk' is not installed\")\n",
        "\n",
        "\n"
      ],
      "execution_count": null,
      "outputs": [
        {
          "output_type": "stream",
          "text": [
            "Requirement already satisfied: scipy in /usr/local/lib/python3.6/dist-packages (1.4.1)\n",
            "Requirement already satisfied: numpy>=1.13.3 in /usr/local/lib/python3.6/dist-packages (from scipy) (1.18.5)\n",
            "Requirement already satisfied: numpy in /usr/local/lib/python3.6/dist-packages (1.18.5)\n",
            "Requirement already satisfied: pandas in /usr/local/lib/python3.6/dist-packages (1.0.5)\n",
            "Requirement already satisfied: python-dateutil>=2.6.1 in /usr/local/lib/python3.6/dist-packages (from pandas) (2.8.1)\n",
            "Requirement already satisfied: numpy>=1.13.3 in /usr/local/lib/python3.6/dist-packages (from pandas) (1.18.5)\n",
            "Requirement already satisfied: pytz>=2017.2 in /usr/local/lib/python3.6/dist-packages (from pandas) (2018.9)\n",
            "Requirement already satisfied: six>=1.5 in /usr/local/lib/python3.6/dist-packages (from python-dateutil>=2.6.1->pandas) (1.15.0)\n",
            "Requirement already satisfied: sklearn in /usr/local/lib/python3.6/dist-packages (0.0)\n",
            "Requirement already satisfied: scikit-learn in /usr/local/lib/python3.6/dist-packages (from sklearn) (0.22.2.post1)\n",
            "Requirement already satisfied: joblib>=0.11 in /usr/local/lib/python3.6/dist-packages (from scikit-learn->sklearn) (0.16.0)\n",
            "Requirement already satisfied: numpy>=1.11.0 in /usr/local/lib/python3.6/dist-packages (from scikit-learn->sklearn) (1.18.5)\n",
            "Requirement already satisfied: scipy>=0.17.0 in /usr/local/lib/python3.6/dist-packages (from scikit-learn->sklearn) (1.4.1)\n",
            "Requirement already satisfied: nltk in /usr/local/lib/python3.6/dist-packages (3.2.5)\n",
            "Requirement already satisfied: six in /usr/local/lib/python3.6/dist-packages (from nltk) (1.15.0)\n",
            "Package 'numpy' is installed Sucessfully\n",
            "Package 'scipy' is installed Sucessfully\n",
            "Package 'pandas' is installed Sucessfully\n",
            "Package 'sklearn' is installed Sucessfully\n",
            "Package 'nltk' is installed Sucessfully\n"
          ],
          "name": "stdout"
        }
      ]
    }
  ]
}